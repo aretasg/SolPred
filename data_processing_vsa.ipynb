{
 "cells": [
  {
   "cell_type": "code",
   "execution_count": 2,
   "id": "57e141f9",
   "metadata": {},
   "outputs": [
    {
     "data": {
      "text/plain": [
       "[[(0.09901477588388696,\n",
       "   16.24996920929941,\n",
       "   0.2998301427760753,\n",
       "   380.6639128453302,\n",
       "   7.307223378584982,\n",
       "   4.9839785209472085,\n",
       "   0.0,\n",
       "   24.117007251546223,\n",
       "   19.00056910773907,\n",
       "   11.844020792380803,\n",
       "   5.516700717616262,\n",
       "   36.41719284661092,\n",
       "   21.098082486562625,\n",
       "   6.4208216229260096,\n",
       "   5.516700717616262,\n",
       "   0.0,\n",
       "   3.986792800453515,\n",
       "   6.180808767951625,\n",
       "   0.0,\n",
       "   0.2222222222222222,\n",
       "   0.8691)],\n",
       " ('MaxPartialCharge',\n",
       "  'BCUT2D_MWHI',\n",
       "  'BCUT2D_MRLOW',\n",
       "  'BertzCT',\n",
       "  'Kappa1',\n",
       "  'PEOE_VSA3',\n",
       "  'PEOE_VSA6',\n",
       "  'PEOE_VSA7',\n",
       "  'PEOE_VSA8',\n",
       "  'PEOE_VSA9',\n",
       "  'SMR_VSA10',\n",
       "  'SMR_VSA7',\n",
       "  'SlogP_VSA2',\n",
       "  'SlogP_VSA3',\n",
       "  'EState_VSA4',\n",
       "  'VSA_EState10',\n",
       "  'VSA_EState2',\n",
       "  'VSA_EState7',\n",
       "  'VSA_EState9',\n",
       "  'FractionCSP3',\n",
       "  'MolLogP')]"
      ]
     },
     "execution_count": 2,
     "metadata": {},
     "output_type": "execute_result"
    }
   ],
   "source": [
    "from rdkit.Chem import MolFromSmiles, Descriptors, MolFromSmarts\n",
    "from rdkit.ML.Descriptors import MoleculeDescriptors\n",
    "\n",
    "\n",
    "def create_descriptors(smiles):\n",
    "    \n",
    "    mols = [MolFromSmiles(i) for i in smiles]\n",
    "    \n",
    "    include_list=['MolLogP', 'MaxPartialCharge', 'SlogP_VSA3', \n",
    "                  'PEOE_VSA6', 'BertzCT', 'BCUT2D_MRLOW',\n",
    "                  'SMR_VSA10', 'Kappa1', 'BCUT2D_MWHI', \n",
    "                  'VSA_EState9', 'FractionCSP3', 'SlogP_VSA2',\n",
    "                  'SMR_VSA7', 'VSA_EState2', 'PEOE_VSA9', \n",
    "                  'PEOE_VSA7', 'PEOE_VSA8', 'VSA_EState10', 'VSA_EState7', 'PEOE_VSA3', 'PEOE_VSA6', 'EState_VSA4']\n",
    "    \n",
    "    desc_to_calc = [x[0] for x in Descriptors._descList if x[0] in include_list]\n",
    "    calc = MoleculeDescriptors.MolecularDescriptorCalculator(desc_to_calc)\n",
    "    col_names = calc.GetDescriptorNames()\n",
    "    desc = [calc.CalcDescriptors(mol) for mol in mols]\n",
    "    \n",
    "    return [desc, col_names]\n",
    "\n",
    "smiles = 'OCCc1ccn2cnccc12'\n",
    "create_descriptors([smiles])"
   ]
  },
  {
   "cell_type": "code",
   "execution_count": 3,
   "id": "51820879",
   "metadata": {},
   "outputs": [
    {
     "data": {
      "text/html": [
       "<div>\n",
       "<style scoped>\n",
       "    .dataframe tbody tr th:only-of-type {\n",
       "        vertical-align: middle;\n",
       "    }\n",
       "\n",
       "    .dataframe tbody tr th {\n",
       "        vertical-align: top;\n",
       "    }\n",
       "\n",
       "    .dataframe thead th {\n",
       "        text-align: right;\n",
       "    }\n",
       "</style>\n",
       "<table border=\"1\" class=\"dataframe\">\n",
       "  <thead>\n",
       "    <tr style=\"text-align: right;\">\n",
       "      <th></th>\n",
       "      <th>Compound ID</th>\n",
       "      <th>measured log(solubility:mol/L)</th>\n",
       "      <th>ESOL predicted log(solubility:mol/L)</th>\n",
       "      <th>SMILES</th>\n",
       "    </tr>\n",
       "  </thead>\n",
       "  <tbody>\n",
       "    <tr>\n",
       "      <th>0</th>\n",
       "      <td>1,1,1,2-Tetrachloroethane</td>\n",
       "      <td>-2.18</td>\n",
       "      <td>-2.794</td>\n",
       "      <td>ClCC(Cl)(Cl)Cl</td>\n",
       "    </tr>\n",
       "    <tr>\n",
       "      <th>1</th>\n",
       "      <td>1,1,1-Trichloroethane</td>\n",
       "      <td>-2.00</td>\n",
       "      <td>-2.232</td>\n",
       "      <td>CC(Cl)(Cl)Cl</td>\n",
       "    </tr>\n",
       "    <tr>\n",
       "      <th>2</th>\n",
       "      <td>1,1,2,2-Tetrachloroethane</td>\n",
       "      <td>-1.74</td>\n",
       "      <td>-2.549</td>\n",
       "      <td>ClC(Cl)C(Cl)Cl</td>\n",
       "    </tr>\n",
       "    <tr>\n",
       "      <th>3</th>\n",
       "      <td>1,1,2-Trichloroethane</td>\n",
       "      <td>-1.48</td>\n",
       "      <td>-1.961</td>\n",
       "      <td>ClCC(Cl)Cl</td>\n",
       "    </tr>\n",
       "    <tr>\n",
       "      <th>4</th>\n",
       "      <td>1,1,2-Trichlorotrifluoroethane</td>\n",
       "      <td>-3.04</td>\n",
       "      <td>-3.077</td>\n",
       "      <td>FC(F)(Cl)C(F)(Cl)Cl</td>\n",
       "    </tr>\n",
       "  </tbody>\n",
       "</table>\n",
       "</div>"
      ],
      "text/plain": [
       "                      Compound ID  measured log(solubility:mol/L)  \\\n",
       "0       1,1,1,2-Tetrachloroethane                           -2.18   \n",
       "1           1,1,1-Trichloroethane                           -2.00   \n",
       "2       1,1,2,2-Tetrachloroethane                           -1.74   \n",
       "3           1,1,2-Trichloroethane                           -1.48   \n",
       "4  1,1,2-Trichlorotrifluoroethane                           -3.04   \n",
       "\n",
       "   ESOL predicted log(solubility:mol/L)               SMILES  \n",
       "0                                -2.794       ClCC(Cl)(Cl)Cl  \n",
       "1                                -2.232         CC(Cl)(Cl)Cl  \n",
       "2                                -2.549       ClC(Cl)C(Cl)Cl  \n",
       "3                                -1.961           ClCC(Cl)Cl  \n",
       "4                                -3.077  FC(F)(Cl)C(F)(Cl)Cl  "
      ]
     },
     "execution_count": 3,
     "metadata": {},
     "output_type": "execute_result"
    }
   ],
   "source": [
    "import pandas as pd\n",
    "\n",
    "\n",
    "df = pd.read_csv('delaney.csv')\n",
    "df.head()"
   ]
  },
  {
   "cell_type": "code",
   "execution_count": 6,
   "id": "3d7e7a04",
   "metadata": {},
   "outputs": [],
   "source": [
    "trainDescrs = create_descriptors([i for i in df['SMILES'] ])\n",
    "final_df = pd.DataFrame(trainDescrs[0], columns=trainDescrs[1])\n",
    "final_df = final_df.join(df['measured log(solubility:mol/L)'], how=\"left\")\n",
    "final_df = final_df.rename(columns={'measured log(solubility:mol/L)': 'logs'})"
   ]
  },
  {
   "cell_type": "code",
   "execution_count": 7,
   "id": "ef38d30d",
   "metadata": {},
   "outputs": [],
   "source": [
    "final_df.to_csv('vsa_descriptors.csv')"
   ]
  }
 ],
 "metadata": {
  "kernelspec": {
   "display_name": "Python 3",
   "language": "python",
   "name": "python3"
  },
  "language_info": {
   "codemirror_mode": {
    "name": "ipython",
    "version": 3
   },
   "file_extension": ".py",
   "mimetype": "text/x-python",
   "name": "python",
   "nbconvert_exporter": "python",
   "pygments_lexer": "ipython3",
   "version": "3.7.10"
  }
 },
 "nbformat": 4,
 "nbformat_minor": 5
}
