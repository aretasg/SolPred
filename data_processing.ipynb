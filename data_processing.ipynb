{
 "cells": [
  {
   "cell_type": "code",
   "execution_count": 1,
   "id": "57e141f9",
   "metadata": {},
   "outputs": [
    {
     "data": {
      "text/plain": [
       "(162.192, 0.8691, 2, 0.75, 1, 3, 0.25, 37.53, 0.2222222222222222)"
      ]
     },
     "execution_count": 1,
     "metadata": {},
     "output_type": "execute_result"
    }
   ],
   "source": [
    "from rdkit.Chem import MolFromSmiles, Descriptors, MolFromSmarts\n",
    "\n",
    "\n",
    "def create_esol_descriptors(smiles):\n",
    "    \n",
    "    mol = MolFromSmiles(smiles)\n",
    "\n",
    "    mw = Descriptors.MolWt(mol)\n",
    "    logp = Descriptors.MolLogP(mol)\n",
    "    rotb = Descriptors.NumRotatableBonds(mol)\n",
    "    arom_proportion = len(mol.GetSubstructMatches(MolFromSmarts(\"a\"))) / Descriptors.HeavyAtomCount(mol)\n",
    "    \n",
    "    # other descriptors in Delaney's publication\n",
    "    # hbd = Descriptors.NHOHCount(mol)\n",
    "    # hba = Descriptors.NOCount(mol)\n",
    "    hbd = Descriptors.NumHDonors(mol)\n",
    "    hba = Descriptors.NumHAcceptors(mol)\n",
    "    non_carbon_proportion = len(mol.GetSubstructMatches(MolFromSmarts(\"[!#6]\"))) / Descriptors.HeavyAtomCount(mol)\n",
    "    psa = Descriptors.TPSA(mol, includeSandP=True)\n",
    "    # plus some extra one\n",
    "    fsp3 = Descriptors.FractionCSP3(mol)\n",
    "    \n",
    "    return mw, logp, rotb, arom_proportion, hbd, hba, non_carbon_proportion, psa, fsp3\n",
    "\n",
    "smiles = 'OCCc1ccn2cnccc12'\n",
    "create_esol_descriptors(smiles)"
   ]
  },
  {
   "cell_type": "code",
   "execution_count": 2,
   "id": "51820879",
   "metadata": {},
   "outputs": [
    {
     "data": {
      "text/html": [
       "<div>\n",
       "<style scoped>\n",
       "    .dataframe tbody tr th:only-of-type {\n",
       "        vertical-align: middle;\n",
       "    }\n",
       "\n",
       "    .dataframe tbody tr th {\n",
       "        vertical-align: top;\n",
       "    }\n",
       "\n",
       "    .dataframe thead th {\n",
       "        text-align: right;\n",
       "    }\n",
       "</style>\n",
       "<table border=\"1\" class=\"dataframe\">\n",
       "  <thead>\n",
       "    <tr style=\"text-align: right;\">\n",
       "      <th></th>\n",
       "      <th>Compound ID</th>\n",
       "      <th>measured log(solubility:mol/L)</th>\n",
       "      <th>ESOL predicted log(solubility:mol/L)</th>\n",
       "      <th>SMILES</th>\n",
       "    </tr>\n",
       "  </thead>\n",
       "  <tbody>\n",
       "    <tr>\n",
       "      <th>0</th>\n",
       "      <td>1,1,1,2-Tetrachloroethane</td>\n",
       "      <td>-2.18</td>\n",
       "      <td>-2.794</td>\n",
       "      <td>ClCC(Cl)(Cl)Cl</td>\n",
       "    </tr>\n",
       "    <tr>\n",
       "      <th>1</th>\n",
       "      <td>1,1,1-Trichloroethane</td>\n",
       "      <td>-2.00</td>\n",
       "      <td>-2.232</td>\n",
       "      <td>CC(Cl)(Cl)Cl</td>\n",
       "    </tr>\n",
       "    <tr>\n",
       "      <th>2</th>\n",
       "      <td>1,1,2,2-Tetrachloroethane</td>\n",
       "      <td>-1.74</td>\n",
       "      <td>-2.549</td>\n",
       "      <td>ClC(Cl)C(Cl)Cl</td>\n",
       "    </tr>\n",
       "    <tr>\n",
       "      <th>3</th>\n",
       "      <td>1,1,2-Trichloroethane</td>\n",
       "      <td>-1.48</td>\n",
       "      <td>-1.961</td>\n",
       "      <td>ClCC(Cl)Cl</td>\n",
       "    </tr>\n",
       "    <tr>\n",
       "      <th>4</th>\n",
       "      <td>1,1,2-Trichlorotrifluoroethane</td>\n",
       "      <td>-3.04</td>\n",
       "      <td>-3.077</td>\n",
       "      <td>FC(F)(Cl)C(F)(Cl)Cl</td>\n",
       "    </tr>\n",
       "  </tbody>\n",
       "</table>\n",
       "</div>"
      ],
      "text/plain": [
       "                      Compound ID  measured log(solubility:mol/L)  \\\n",
       "0       1,1,1,2-Tetrachloroethane                           -2.18   \n",
       "1           1,1,1-Trichloroethane                           -2.00   \n",
       "2       1,1,2,2-Tetrachloroethane                           -1.74   \n",
       "3           1,1,2-Trichloroethane                           -1.48   \n",
       "4  1,1,2-Trichlorotrifluoroethane                           -3.04   \n",
       "\n",
       "   ESOL predicted log(solubility:mol/L)               SMILES  \n",
       "0                                -2.794       ClCC(Cl)(Cl)Cl  \n",
       "1                                -2.232         CC(Cl)(Cl)Cl  \n",
       "2                                -2.549       ClC(Cl)C(Cl)Cl  \n",
       "3                                -1.961           ClCC(Cl)Cl  \n",
       "4                                -3.077  FC(F)(Cl)C(F)(Cl)Cl  "
      ]
     },
     "execution_count": 2,
     "metadata": {},
     "output_type": "execute_result"
    }
   ],
   "source": [
    "import pandas as pd\n",
    "\n",
    "\n",
    "df = pd.read_csv('delaney.csv')\n",
    "df.head()"
   ]
  },
  {
   "cell_type": "code",
   "execution_count": 3,
   "id": "3d7e7a04",
   "metadata": {},
   "outputs": [],
   "source": [
    "descriptors = [create_esol_descriptors(smiles) for smiles in df['SMILES']]\n",
    "col_names = ['mw', 'logp', 'rotb', 'ap', 'hbd', 'hba', 'non_cp', 'psa', 'fsp3']\n",
    "final_df = pd.DataFrame(descriptors, columns=col_names)\n",
    "final_df = final_df.join(df['measured log(solubility:mol/L)'], how=\"left\")\n",
    "final_df = final_df.rename(columns={'measured log(solubility:mol/L)': 'logs'})"
   ]
  },
  {
   "cell_type": "code",
   "execution_count": 4,
   "id": "ef38d30d",
   "metadata": {},
   "outputs": [],
   "source": [
    "final_df.to_csv('delaney_descriptors.csv')"
   ]
  }
 ],
 "metadata": {
  "kernelspec": {
   "display_name": "Python 3",
   "language": "python",
   "name": "python3"
  },
  "language_info": {
   "codemirror_mode": {
    "name": "ipython",
    "version": 3
   },
   "file_extension": ".py",
   "mimetype": "text/x-python",
   "name": "python",
   "nbconvert_exporter": "python",
   "pygments_lexer": "ipython3",
   "version": "3.7.10"
  }
 },
 "nbformat": 4,
 "nbformat_minor": 5
}
